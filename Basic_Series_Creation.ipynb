{
  "nbformat": 4,
  "nbformat_minor": 0,
  "metadata": {
    "colab": {
      "provenance": [],
      "authorship_tag": "ABX9TyOGbtWl+sr7QZUERQaIneZC",
      "include_colab_link": true
    },
    "kernelspec": {
      "name": "python3",
      "display_name": "Python 3"
    },
    "language_info": {
      "name": "python"
    }
  },
  "cells": [
    {
      "cell_type": "markdown",
      "metadata": {
        "id": "view-in-github",
        "colab_type": "text"
      },
      "source": [
        "<a href=\"https://colab.research.google.com/github/Supriyadandawate/30-Days-of-Python-programming/blob/main/Basic_Series_Creation.ipynb\" target=\"_parent\"><img src=\"https://colab.research.google.com/assets/colab-badge.svg\" alt=\"Open In Colab\"/></a>"
      ]
    },
    {
      "cell_type": "code",
      "execution_count": 1,
      "metadata": {
        "colab": {
          "base_uri": "https://localhost:8080/"
        },
        "id": "pBRwJlnlhsld",
        "outputId": "e5b53ff4-54c8-453c-f057-84045446fa42"
      },
      "outputs": [
        {
          "output_type": "stream",
          "name": "stdout",
          "text": [
            "List of series\n",
            "\n",
            "0     Mango\n",
            "1     Apple\n",
            "2    Banana\n",
            "3    Grapes\n",
            "dtype: object\n"
          ]
        }
      ],
      "source": [
        "# Create a pandas Series from a List\n",
        "import pandas as pd\n",
        "list_series = [\"Mango\",\"Apple\",\"Banana\",\"Grapes\"]\n",
        "series = pd.Series(list_series)\n",
        "\n",
        "print(\"List of series\")\n",
        "print()\n",
        "print(series)\n"
      ]
    },
    {
      "cell_type": "code",
      "source": [
        "# Create a pandas Series from a Tuple\n",
        "import pandas as pd\n",
        "tuple_series =(10,20,30,40,50)\n",
        "\n",
        "series = pd.Series(tuple_series)\n",
        "print(\"Tuple of series\")\n",
        "print(series)"
      ],
      "metadata": {
        "colab": {
          "base_uri": "https://localhost:8080/"
        },
        "id": "vcnLbkPJipfk",
        "outputId": "f7f08ce4-e79e-4a5b-e6b6-d7ff687398fe"
      },
      "execution_count": 5,
      "outputs": [
        {
          "output_type": "stream",
          "name": "stdout",
          "text": [
            "Tuple of series\n",
            "0    10\n",
            "1    20\n",
            "2    30\n",
            "3    40\n",
            "4    50\n",
            "dtype: int64\n"
          ]
        }
      ]
    },
    {
      "cell_type": "code",
      "source": [
        "# Create a series with Custom Index\n",
        "import pandas as pd\n",
        "data =[\"Mango\", \"Banana\",\"Apple\",\"Grapes\"]\n",
        "index=[300,400,500,600]\n",
        "\n",
        "series = pd.Series(data, index=index)\n",
        "\n",
        "print(\"Series with custom Index\")\n",
        "print(series)"
      ],
      "metadata": {
        "colab": {
          "base_uri": "https://localhost:8080/"
        },
        "id": "wkMnDUvUi73F",
        "outputId": "3df9c034-9edf-4ec7-9782-3ca2feb49c33"
      },
      "execution_count": 6,
      "outputs": [
        {
          "output_type": "stream",
          "name": "stdout",
          "text": [
            "Series with custom Index\n",
            "300     Mango\n",
            "400    Banana\n",
            "500     Apple\n",
            "600    Grapes\n",
            "dtype: object\n"
          ]
        }
      ]
    },
    {
      "cell_type": "code",
      "source": [
        "# Use Cases of Pandas Series in DataFrames:\n",
        "import pandas as pd\n",
        "# Using Pandas Series:\n",
        "data = {\n",
        "    \"Name\" : pd.Series([\"Lakhan\",\"Sumanth\",\"Sriram\",\"Koushik\"]),\n",
        "    \"Age\"  : pd.Series([10,20,30,40])\n",
        "}\n",
        "\n",
        "df = pd.DataFrame(data)\n",
        "print(\"print the series of data\")\n",
        "print(df)\n",
        "print()\n",
        "print(\"Accessing the age column of the series\")\n",
        "print(df[\"Age\"])"
      ],
      "metadata": {
        "colab": {
          "base_uri": "https://localhost:8080/"
        },
        "id": "IQrFp4LMj6kq",
        "outputId": "dc7dae94-4a45-4e0e-b2b8-cbcad25541ab"
      },
      "execution_count": 8,
      "outputs": [
        {
          "output_type": "stream",
          "name": "stdout",
          "text": [
            "print the series of data\n",
            "      Name  Age\n",
            "0   Lakhan   10\n",
            "1  Sumanth   20\n",
            "2   Sriram   30\n",
            "3  Koushik   40\n",
            "\n",
            "Accessing the age column of the series\n",
            "0    10\n",
            "1    20\n",
            "2    30\n",
            "3    40\n",
            "Name: Age, dtype: int64\n"
          ]
        }
      ]
    },
    {
      "cell_type": "code",
      "source": [],
      "metadata": {
        "id": "9bvfFJEkk6Is"
      },
      "execution_count": null,
      "outputs": []
    }
  ]
}